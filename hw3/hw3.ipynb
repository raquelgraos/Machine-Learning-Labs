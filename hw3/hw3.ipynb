{
 "cells": [
  {
   "cell_type": "markdown",
   "metadata": {},
   "source": [
    "# II. Programming and critical analysis"
   ]
  },
  {
   "cell_type": "markdown",
   "metadata": {},
   "source": [
    "### 5. "
   ]
  },
  {
   "cell_type": "code",
   "execution_count": 4,
   "metadata": {},
   "outputs": [
    {
     "data": {
      "image/png": "[encoded data removed]",
      "text/plain": [
       "<Figure size 1000x600 with 1 Axes>"
      ]
     },
     "metadata": {},
     "output_type": "display_data"
    }
   ],
   "source": [
    "import pandas as pd\n",
    "import numpy as np\n",
    "from sklearn.model_selection import train_test_split\n",
    "from sklearn.linear_model import LinearRegression\n",
    "from sklearn.neural_network import MLPRegressor\n",
    "from sklearn.metrics import mean_absolute_error\n",
    "import seaborn as sns\n",
    "import matplotlib.pyplot as plt\n",
    "import warnings\n",
    "warnings.filterwarnings(\"ignore\")\n",
    "\n",
    "df = pd.read_csv('parkinsons.csv')\n",
    "X = df.drop('target', axis=1)\n",
    "y = df['target']\n",
    "\n",
    "MAE_linear = []\n",
    "MAE_MLP = []\n",
    "MAE_relu = []\n",
    "\n",
    "for i in range(1, 11):\n",
    "    X_train, X_test, y_train, y_test = train_test_split(X, y, train_size=0.8, random_state=i)\n",
    "\n",
    "    linear = LinearRegression()\n",
    "    linear.fit(X_train, y_train)\n",
    "    y_pred = linear.predict(X_test)\n",
    "    MAE_linear.append(mean_absolute_error(y_test, y_pred))\n",
    "\n",
    "    MLP = MLPRegressor(hidden_layer_sizes=(10,10), activation='identity', random_state=0)\n",
    "    MLP.fit(X_train, y_train)\n",
    "    y_pred = MLP.predict(X_test)\n",
    "    MAE_MLP.append(mean_absolute_error(y_test, y_pred))\n",
    "\n",
    "    MLP_relu = MLPRegressor(hidden_layer_sizes=(10,10), activation='relu', random_state=0)\n",
    "    MLP_relu.fit(X_train, y_train)\n",
    "    y_pred = MLP_relu.predict(X_test)\n",
    "    MAE_relu.append(mean_absolute_error(y_test, y_pred))\n",
    "\n",
    "MAE_data = pd.DataFrame({\n",
    "    'Linear Regression': MAE_linear,\n",
    "    'MLP with no activation': MAE_MLP,\n",
    "    'MLP ReLu': MAE_relu\n",
    "})\n",
    "\n",
    "plt.figure(figsize=(10, 6))\n",
    "sns.boxplot(data=MAE_data)\n",
    "plt.title('Test MAE of Different Models Over 10 Runs')\n",
    "plt.ylabel('Mean Absolute Error (MAE)')\n",
    "plt.show()\n"
   ]
  },
  {
   "cell_type": "markdown",
   "metadata": {},
   "source": [
    "### 7."
   ]
  },
  {
   "cell_type": "code",
   "execution_count": null,
   "metadata": {},
   "outputs": [
    {
     "name": "stdout",
     "output_type": "stream",
     "text": [
      "Fitting 5 folds for each of 27 candidates, totalling 135 fits\n",
      "[CV] END alpha=0.0001, batch_size=32, learning_rate_init=0.001; total time=   9.2s\n",
      "[CV] END alpha=0.0001, batch_size=32, learning_rate_init=0.001; total time=   7.7s\n",
      "[CV] END alpha=0.0001, batch_size=32, learning_rate_init=0.001; total time=  10.0s\n",
      "[CV] END alpha=0.0001, batch_size=32, learning_rate_init=0.001; total time=  11.7s\n",
      "[CV] END alpha=0.0001, batch_size=32, learning_rate_init=0.001; total time=  12.9s\n",
      "[CV] END alpha=0.0001, batch_size=32, learning_rate_init=0.01; total time=   4.8s\n",
      "[CV] END alpha=0.0001, batch_size=32, learning_rate_init=0.01; total time=   2.3s\n",
      "[CV] END alpha=0.0001, batch_size=32, learning_rate_init=0.01; total time=   2.5s\n",
      "[CV] END alpha=0.0001, batch_size=32, learning_rate_init=0.01; total time=   3.2s\n",
      "[CV] END alpha=0.0001, batch_size=32, learning_rate_init=0.01; total time=   4.0s\n",
      "[CV] END alpha=0.0001, batch_size=32, learning_rate_init=0.1; total time=   1.7s\n",
      "[CV] END alpha=0.0001, batch_size=32, learning_rate_init=0.1; total time=   1.6s\n",
      "[CV] END alpha=0.0001, batch_size=32, learning_rate_init=0.1; total time=   1.4s\n",
      "[CV] END alpha=0.0001, batch_size=32, learning_rate_init=0.1; total time=   1.5s\n",
      "[CV] END alpha=0.0001, batch_size=32, learning_rate_init=0.1; total time=   1.2s\n",
      "[CV] END alpha=0.0001, batch_size=64, learning_rate_init=0.001; total time=   7.1s\n",
      "[CV] END alpha=0.0001, batch_size=64, learning_rate_init=0.001; total time=   6.4s\n",
      "[CV] END alpha=0.0001, batch_size=64, learning_rate_init=0.001; total time=   8.8s\n",
      "[CV] END alpha=0.0001, batch_size=64, learning_rate_init=0.001; total time=   5.6s\n",
      "[CV] END alpha=0.0001, batch_size=64, learning_rate_init=0.001; total time=   7.5s\n",
      "[CV] END alpha=0.0001, batch_size=64, learning_rate_init=0.01; total time=   1.5s\n",
      "[CV] END alpha=0.0001, batch_size=64, learning_rate_init=0.01; total time=   1.7s\n",
      "[CV] END alpha=0.0001, batch_size=64, learning_rate_init=0.01; total time=   1.2s\n",
      "[CV] END alpha=0.0001, batch_size=64, learning_rate_init=0.01; total time=   1.6s\n",
      "[CV] END alpha=0.0001, batch_size=64, learning_rate_init=0.01; total time=   1.7s\n",
      "[CV] END alpha=0.0001, batch_size=64, learning_rate_init=0.1; total time=   1.1s\n",
      "[CV] END alpha=0.0001, batch_size=64, learning_rate_init=0.1; total time=   0.5s\n",
      "[CV] END alpha=0.0001, batch_size=64, learning_rate_init=0.1; total time=   0.9s\n",
      "[CV] END alpha=0.0001, batch_size=64, learning_rate_init=0.1; total time=   1.2s\n",
      "[CV] END alpha=0.0001, batch_size=64, learning_rate_init=0.1; total time=   1.5s\n",
      "[CV] END alpha=0.0001, batch_size=128, learning_rate_init=0.001; total time=   6.1s\n",
      "[CV] END alpha=0.0001, batch_size=128, learning_rate_init=0.001; total time=   5.1s\n",
      "[CV] END alpha=0.0001, batch_size=128, learning_rate_init=0.001; total time=   6.1s\n",
      "[CV] END alpha=0.0001, batch_size=128, learning_rate_init=0.001; total time=   7.2s\n",
      "[CV] END alpha=0.0001, batch_size=128, learning_rate_init=0.001; total time=   5.4s\n",
      "[CV] END alpha=0.0001, batch_size=128, learning_rate_init=0.01; total time=   0.9s\n",
      "[CV] END alpha=0.0001, batch_size=128, learning_rate_init=0.01; total time=   0.9s\n",
      "[CV] END alpha=0.0001, batch_size=128, learning_rate_init=0.01; total time=   1.2s\n",
      "[CV] END alpha=0.0001, batch_size=128, learning_rate_init=0.01; total time=   1.4s\n",
      "[CV] END alpha=0.0001, batch_size=128, learning_rate_init=0.01; total time=   0.7s\n",
      "[CV] END alpha=0.0001, batch_size=128, learning_rate_init=0.1; total time=   0.6s\n",
      "[CV] END alpha=0.0001, batch_size=128, learning_rate_init=0.1; total time=   0.5s\n",
      "[CV] END alpha=0.0001, batch_size=128, learning_rate_init=0.1; total time=   0.5s\n",
      "[CV] END alpha=0.0001, batch_size=128, learning_rate_init=0.1; total time=   0.8s\n",
      "[CV] END alpha=0.0001, batch_size=128, learning_rate_init=0.1; total time=   0.4s\n",
      "[CV] END alpha=0.001, batch_size=32, learning_rate_init=0.001; total time=  12.0s\n",
      "[CV] END alpha=0.001, batch_size=32, learning_rate_init=0.001; total time=  10.4s\n",
      "[CV] END alpha=0.001, batch_size=32, learning_rate_init=0.001; total time=   9.5s\n",
      "[CV] END alpha=0.001, batch_size=32, learning_rate_init=0.001; total time=  12.2s\n"
     ]
    }
   ],
   "source": [
    "import numpy as np\n",
    "import pandas as pd\n",
    "from sklearn.model_selection import train_test_split, GridSearchCV\n",
    "from sklearn.neural_network import MLPRegressor\n",
    "from sklearn.metrics import mean_absolute_error\n",
    "import matplotlib.pyplot as plt\n",
    "import seaborn as sns\n",
    "import warnings\n",
    "warnings.filterwarnings(\"ignore\")\n",
    "\n",
    "df = pd.read_csv('parkinsons.csv')\n",
    "X = df.drop('target', axis=1)\n",
    "y = df['target']\n",
    "\n",
    "X_train, X_test, y_train, y_test = train_test_split(X, y, train_size=0.8, random_state=0)\n",
    "\n",
    "MLP = MLPRegressor(hidden_layer_sizes=(10, 10), random_state=0, max_iter=1000)\n",
    "\n",
    "parameters = {\n",
    "    'alpha': [0.0001, 0.001, 0.01],\n",
    "    'learning_rate_init': [0.001, 0.01, 0.1],\n",
    "    'batch_size': [32, 64, 128]\n",
    "}\n",
    "\n",
    "grid_search = GridSearchCV(MLP, parameters, scoring='neg_mean_absolute_error', verbose=2, cv=5)\n",
    "\n",
    "grid_search.fit(X_train, y_train)\n",
    "\n",
    "results = pd.DataFrame(grid_search.cv_results_)\n",
    "\n",
    "results['MAE'] = -results['mean_test_score']\n",
    "\n",
    "pivot_table = results.pivot_table(\n",
    "    values='MAE',\n",
    "    index='param_alpha',\n",
    "    columns=['param_learning_rate_init', 'param_batch_size'],\n",
    "    aggfunc=np.mean\n",
    ")\n",
    "\n",
    "plt.figure(figsize=(12, 8))\n",
    "sns.heatmap(pivot_table, annot=True, cmap=\"viridis\", cbar_kws={'label': 'Mean Absolute Error (MAE)'})\n",
    "plt.title('Test MAE for Each Hyperparameter Combination')\n",
    "plt.xlabel('Learning Rate and Batch Size')\n",
    "plt.ylabel('L2 Penalty (Alpha)')\n",
    "plt.show()\n",
    "\n",
    "best_params = grid_search.best_params_\n",
    "print(\"Best Parameters: \", best_params)\n",
    "best_mae = -grid_search.best_score_\n",
    "print(\"Best Test MAE: {:.5f}\".format(best_mae))\n"
   ]
  }
 ],
 "metadata": {
  "kernelspec": {
   "display_name": "sklearn-env",
   "language": "python",
   "name": "python3"
  },
  "language_info": {
   "codemirror_mode": {
    "name": "ipython",
    "version": 3
   },
   "file_extension": ".py",
   "mimetype": "text/x-python",
   "name": "python",
   "nbconvert_exporter": "python",
   "pygments_lexer": "ipython3",
   "version": "3.8.10"
  }
 },
 "nbformat": 4,
 "nbformat_minor": 2
}
