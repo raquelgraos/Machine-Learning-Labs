{
 "cells": [
  {
   "cell_type": "markdown",
   "metadata": {},
   "source": [
    "1.\n"
   ]
  },
  {
   "cell_type": "code",
   "execution_count": 3,
   "metadata": {},
   "outputs": [
    {
     "name": "stdout",
     "output_type": "stream",
     "text": [
      "[3.31593 0.11372]\n"
     ]
    }
   ],
   "source": [
    "import numpy as np\n",
    "\n",
    "y1 = np.array([1, 1, 3, 3, 2])\n",
    "y2 = np.array([1, 3, 2, 3, 4])\n",
    "ynum = np.array([1.25, 7.0, 2.7, 3.2, 5.5])\n",
    "\n",
    "phi = y1 * y2\n",
    "\n",
    "phi_with_bias = np.vstack([np.ones_like(phi), phi]).T\n",
    "\n",
    "X = phi_with_bias\n",
    "y = ynum\n",
    "beta = np.linalg.pinv(X.T @ X) @ X.T @ y\n",
    "\n",
    "print(np.around(beta, 5))"
   ]
  },
  {
   "cell_type": "markdown",
   "metadata": {},
   "source": [
    "2."
   ]
  },
  {
   "cell_type": "code",
   "execution_count": 4,
   "metadata": {},
   "outputs": [
    {
     "name": "stdout",
     "output_type": "stream",
     "text": [
      "[1.81809 0.32376]\n"
     ]
    }
   ],
   "source": [
    "import numpy as np\n",
    "\n",
    "y1 = np.array([1, 1, 3, 3, 2])\n",
    "y2 = np.array([1, 3, 2, 3, 4])\n",
    "ynum = np.array([1.25, 7.0, 2.7, 3.2, 5.5])\n",
    "lambda_ridge = 1\n",
    "\n",
    "phi = y1 * y2\n",
    "\n",
    "phi_with_bias = np.vstack([np.ones_like(phi), phi]).T\n",
    "\n",
    "I = np.eye(X.shape[1])\n",
    "\n",
    "X = phi_with_bias\n",
    "y = ynum\n",
    "beta = np.linalg.pinv(X.T @ X + lambda_ridge * I) @ X.T @ y\n",
    "\n",
    "print(np.around(beta, 5))"
   ]
  },
  {
   "cell_type": "markdown",
   "metadata": {},
   "source": [
    "3."
   ]
  },
  {
   "cell_type": "code",
   "execution_count": 5,
   "metadata": {},
   "outputs": [
    {
     "name": "stdout",
     "output_type": "stream",
     "text": [
      "OLS Predictions: [3.77081 3.54337 3.88453]\n",
      "Ridge Predictions: [3.11313 2.46561 3.43689]\n",
      "RMSE OLS: 2.4656\n",
      "RMSE Ridge: 1.7529\n"
     ]
    }
   ],
   "source": [
    "import numpy as np\n",
    "\n",
    "test_y1 = np.array([2, 1, 5])\n",
    "test_y2 = np.array([2, 2, 1])\n",
    "test_phi = test_y1 * test_y2\n",
    "test_ytrue = np.array([0.7, 1.1, 2.2]) \n",
    "\n",
    "test_phi_with_bias = np.vstack([np.ones_like(test_phi), test_phi]).T\n",
    "\n",
    "beta_ols = np.array([3.31593, 0.11372])\n",
    "\n",
    "beta_ridge = np.array([1.81809, 0.32376])\n",
    "\n",
    "pred_ols = test_phi_with_bias @ beta_ols\n",
    "\n",
    "pred_ridge = test_phi_with_bias @ beta_ridge\n",
    "\n",
    "rmse_ols = np.sqrt(np.mean((pred_ols - test_ytrue) ** 2))\n",
    "rmse_ridge = np.sqrt(np.mean((pred_ridge - test_ytrue) ** 2))\n",
    "\n",
    "print(\"OLS Predictions:\", np.around(pred_ols, 5))\n",
    "print(\"Ridge Predictions:\", np.around(pred_ridge, 5))\n",
    "print(\"RMSE OLS:\", np.around(rmse_ols, 5))\n",
    "print(\"RMSE Ridge:\", np.around(rmse_ridge, 5))\n"
   ]
  }
 ],
 "metadata": {
  "kernelspec": {
   "display_name": "Python 3",
   "language": "python",
   "name": "python3"
  },
  "language_info": {
   "codemirror_mode": {
    "name": "ipython",
    "version": 3
   },
   "file_extension": ".py",
   "mimetype": "text/x-python",
   "name": "python",
   "nbconvert_exporter": "python",
   "pygments_lexer": "ipython3",
   "version": "3.8.10"
  }
 },
 "nbformat": 4,
 "nbformat_minor": 2
}
